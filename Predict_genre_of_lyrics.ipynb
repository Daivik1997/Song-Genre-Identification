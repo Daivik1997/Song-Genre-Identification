{
 "cells": [
  {
   "cell_type": "markdown",
   "metadata": {},
   "source": [
    "# Importing the required packages"
   ]
  },
  {
   "cell_type": "code",
   "execution_count": 3,
   "metadata": {
    "collapsed": true
   },
   "outputs": [],
   "source": [
    "from nltk.classify import PositiveNaiveBayesClassifier\n",
    "import json\n",
    "import pandas as pd\n",
    "import random"
   ]
  },
  {
   "cell_type": "markdown",
   "metadata": {},
   "source": [
    "# Reading the Dataset"
   ]
  },
  {
   "cell_type": "code",
   "execution_count": 35,
   "metadata": {},
   "outputs": [
    {
     "data": {
      "text/html": [
       "<div>\n",
       "<table border=\"1\" class=\"dataframe\">\n",
       "  <thead>\n",
       "    <tr style=\"text-align: right;\">\n",
       "      <th></th>\n",
       "      <th>Unnamed: 0</th>\n",
       "      <th>song_key</th>\n",
       "      <th>lyrics</th>\n",
       "      <th>lyrics_url</th>\n",
       "      <th>lyrics_abstract</th>\n",
       "      <th>decade</th>\n",
       "      <th>artist</th>\n",
       "      <th>title</th>\n",
       "      <th>year</th>\n",
       "      <th>band_singer</th>\n",
       "      <th>...</th>\n",
       "      <th>/wiki/Western_swing</th>\n",
       "      <th>/wiki/Witch_house</th>\n",
       "      <th>/wiki/World_music</th>\n",
       "      <th>/wiki/Worldbeat</th>\n",
       "      <th>/wiki/Worship_music</th>\n",
       "      <th>/wiki/Zydeco</th>\n",
       "      <th>wordcount</th>\n",
       "      <th>wordset</th>\n",
       "      <th>lexdiv</th>\n",
       "      <th>repetition_score</th>\n",
       "    </tr>\n",
       "  </thead>\n",
       "  <tbody>\n",
       "    <tr>\n",
       "      <th>0</th>\n",
       "      <td>627</td>\n",
       "      <td>1976-86</td>\n",
       "      <td>Are you ready\\nDo what you wanna do\\nDo what y...</td>\n",
       "      <td>http://lyrics.wikia.com/Ohio_Players:Who%27d_S...</td>\n",
       "      <td>Are you ready\\nDo what you wanna do\\nDo what y...</td>\n",
       "      <td>1970</td>\n",
       "      <td>Ohio Players</td>\n",
       "      <td>Who'd She Coo?</td>\n",
       "      <td>1976</td>\n",
       "      <td>Ohio Players</td>\n",
       "      <td>...</td>\n",
       "      <td>False</td>\n",
       "      <td>False</td>\n",
       "      <td>False</td>\n",
       "      <td>False</td>\n",
       "      <td>False</td>\n",
       "      <td>False</td>\n",
       "      <td>35</td>\n",
       "      <td>26</td>\n",
       "      <td>0.742857</td>\n",
       "      <td>1.346154</td>\n",
       "    </tr>\n",
       "    <tr>\n",
       "      <th>1</th>\n",
       "      <td>1375</td>\n",
       "      <td>1984-59</td>\n",
       "      <td>I thought that dreams belonged to other men 'C...</td>\n",
       "      <td>http://lyrics.wikia.com/index.php?title=Mike_R...</td>\n",
       "      <td>I thought that dreams belonged to other men 'C...</td>\n",
       "      <td>1980</td>\n",
       "      <td>Mike Reno</td>\n",
       "      <td>Almost Paradise</td>\n",
       "      <td>1984</td>\n",
       "      <td>Ann Wilson</td>\n",
       "      <td>...</td>\n",
       "      <td>False</td>\n",
       "      <td>False</td>\n",
       "      <td>False</td>\n",
       "      <td>False</td>\n",
       "      <td>False</td>\n",
       "      <td>False</td>\n",
       "      <td>144</td>\n",
       "      <td>104</td>\n",
       "      <td>0.722222</td>\n",
       "      <td>1.384615</td>\n",
       "    </tr>\n",
       "    <tr>\n",
       "      <th>3</th>\n",
       "      <td>990</td>\n",
       "      <td>1980-61</td>\n",
       "      <td>Oh I could hide 'neath the wings of the blue b...</td>\n",
       "      <td>http://lyrics.wikia.com/Anne_Murray:Daydream_B...</td>\n",
       "      <td>Oh I could hide 'neath the wings of the blue b...</td>\n",
       "      <td>1980</td>\n",
       "      <td>Anne Murray</td>\n",
       "      <td>Daydream Believer</td>\n",
       "      <td>1980</td>\n",
       "      <td>Anne Murray</td>\n",
       "      <td>...</td>\n",
       "      <td>False</td>\n",
       "      <td>False</td>\n",
       "      <td>False</td>\n",
       "      <td>False</td>\n",
       "      <td>False</td>\n",
       "      <td>False</td>\n",
       "      <td>114</td>\n",
       "      <td>79</td>\n",
       "      <td>0.692982</td>\n",
       "      <td>1.443038</td>\n",
       "    </tr>\n",
       "    <tr>\n",
       "      <th>4</th>\n",
       "      <td>153</td>\n",
       "      <td>1971-80</td>\n",
       "      <td>Amazing grace! How sweet the sound. That saved...</td>\n",
       "      <td>http://lyrics.wikia.com/Judy_Collins:Amazing_G...</td>\n",
       "      <td>Amazing grace! How sweet the sound. That saved...</td>\n",
       "      <td>1970</td>\n",
       "      <td>Judy Collins</td>\n",
       "      <td>Amazing Grace</td>\n",
       "      <td>1971</td>\n",
       "      <td>Judy Collins</td>\n",
       "      <td>...</td>\n",
       "      <td>False</td>\n",
       "      <td>False</td>\n",
       "      <td>False</td>\n",
       "      <td>False</td>\n",
       "      <td>False</td>\n",
       "      <td>False</td>\n",
       "      <td>128</td>\n",
       "      <td>86</td>\n",
       "      <td>0.671875</td>\n",
       "      <td>1.488372</td>\n",
       "    </tr>\n",
       "    <tr>\n",
       "      <th>5</th>\n",
       "      <td>645</td>\n",
       "      <td>1977-4</td>\n",
       "      <td>Love, soft as an easy chair. Love, fresh as th...</td>\n",
       "      <td>http://lyrics.wikia.com/Barbra_Streisand:Everg...</td>\n",
       "      <td>Love, soft as an easy chair. Love, fresh as th...</td>\n",
       "      <td>1970</td>\n",
       "      <td>Barbra Streisand</td>\n",
       "      <td>Evergreen (Love Theme from A Star Is Born)</td>\n",
       "      <td>1977</td>\n",
       "      <td>Barbra Streisand</td>\n",
       "      <td>...</td>\n",
       "      <td>False</td>\n",
       "      <td>False</td>\n",
       "      <td>False</td>\n",
       "      <td>False</td>\n",
       "      <td>False</td>\n",
       "      <td>False</td>\n",
       "      <td>128</td>\n",
       "      <td>82</td>\n",
       "      <td>0.640625</td>\n",
       "      <td>1.560976</td>\n",
       "    </tr>\n",
       "  </tbody>\n",
       "</table>\n",
       "<p>5 rows × 454 columns</p>\n",
       "</div>"
      ],
      "text/plain": [
       "   Unnamed: 0 song_key                                             lyrics  \\\n",
       "0         627  1976-86  Are you ready\\nDo what you wanna do\\nDo what y...   \n",
       "1        1375  1984-59  I thought that dreams belonged to other men 'C...   \n",
       "3         990  1980-61  Oh I could hide 'neath the wings of the blue b...   \n",
       "4         153  1971-80  Amazing grace! How sweet the sound. That saved...   \n",
       "5         645   1977-4  Love, soft as an easy chair. Love, fresh as th...   \n",
       "\n",
       "                                          lyrics_url  \\\n",
       "0  http://lyrics.wikia.com/Ohio_Players:Who%27d_S...   \n",
       "1  http://lyrics.wikia.com/index.php?title=Mike_R...   \n",
       "3  http://lyrics.wikia.com/Anne_Murray:Daydream_B...   \n",
       "4  http://lyrics.wikia.com/Judy_Collins:Amazing_G...   \n",
       "5  http://lyrics.wikia.com/Barbra_Streisand:Everg...   \n",
       "\n",
       "                                     lyrics_abstract  decade  \\\n",
       "0  Are you ready\\nDo what you wanna do\\nDo what y...    1970   \n",
       "1  I thought that dreams belonged to other men 'C...    1980   \n",
       "3  Oh I could hide 'neath the wings of the blue b...    1980   \n",
       "4  Amazing grace! How sweet the sound. That saved...    1970   \n",
       "5  Love, soft as an easy chair. Love, fresh as th...    1970   \n",
       "\n",
       "             artist                                       title  year  \\\n",
       "0      Ohio Players                              Who'd She Coo?  1976   \n",
       "1         Mike Reno                             Almost Paradise  1984   \n",
       "3       Anne Murray                           Daydream Believer  1980   \n",
       "4      Judy Collins                               Amazing Grace  1971   \n",
       "5  Barbra Streisand  Evergreen (Love Theme from A Star Is Born)  1977   \n",
       "\n",
       "        band_singer       ...         /wiki/Western_swing /wiki/Witch_house  \\\n",
       "0      Ohio Players       ...                       False             False   \n",
       "1        Ann Wilson       ...                       False             False   \n",
       "3       Anne Murray       ...                       False             False   \n",
       "4      Judy Collins       ...                       False             False   \n",
       "5  Barbra Streisand       ...                       False             False   \n",
       "\n",
       "  /wiki/World_music /wiki/Worldbeat /wiki/Worship_music /wiki/Zydeco  \\\n",
       "0             False           False               False        False   \n",
       "1             False           False               False        False   \n",
       "3             False           False               False        False   \n",
       "4             False           False               False        False   \n",
       "5             False           False               False        False   \n",
       "\n",
       "  wordcount wordset    lexdiv repetition_score  \n",
       "0        35      26  0.742857         1.346154  \n",
       "1       144     104  0.722222         1.384615  \n",
       "3       114      79  0.692982         1.443038  \n",
       "4       128      86  0.671875         1.488372  \n",
       "5       128      82  0.640625         1.560976  \n",
       "\n",
       "[5 rows x 454 columns]"
      ]
     },
     "execution_count": 35,
     "metadata": {},
     "output_type": "execute_result"
    }
   ],
   "source": [
    "df = pd.read_csv(\"cleaned_lyrics_with_genres_wordcount_and_vocab.csv\")\n",
    "df = df.drop_duplicates('song_key')\n",
    "# total number of songs\n",
    "allsongs= len(df)*1.0\n",
    "df.head(5)"
   ]
  },
  {
   "cell_type": "markdown",
   "metadata": {},
   "source": [
    "# Getting the top 15 genres and the genre list"
   ]
  },
  {
   "cell_type": "code",
   "execution_count": 5,
   "metadata": {},
   "outputs": [
    {
     "data": {
      "text/plain": [
       "[(0, '/wiki/Pop_music', 0.7867435158501441),\n",
       " (1, '/wiki/Hip_hop_music', 0.6296829971181557),\n",
       " (2, '/wiki/Contemporary_R%26B', 0.6162343900096061),\n",
       " (3, '/wiki/Soul_music', 0.41306436119116235),\n",
       " (4, '/wiki/Rock_music', 0.3621517771373679),\n",
       " (5, '/wiki/Pop_rock', 0.3520653218059558),\n",
       " (6, '/wiki/Soft_rock', 0.24639769452449567),\n",
       " (7, '/wiki/Country_music', 0.1988472622478386),\n",
       " (8, '/wiki/Rhythm_and_blues', 0.19548511047070125),\n",
       " (9, '/wiki/Alternative_rock', 0.16234390009606148),\n",
       " (10, '/wiki/Funk', 0.15994236311239193),\n",
       " (11, '/wiki/Hard_rock', 0.15417867435158503),\n",
       " (12, '/wiki/Dance_music', 0.14169068203650337),\n",
       " (13, '/wiki/Dance-pop', 0.14169068203650337),\n",
       " (14, '/wiki/Disco', 0.13160422670509125)]"
      ]
     },
     "execution_count": 5,
     "metadata": {},
     "output_type": "execute_result"
    }
   ],
   "source": [
    "with open(\"songs_by_genre.json\") as json_file:\n",
    "    genres = json.load(json_file)\n",
    "   \n",
    "genrelist= genres.keys()\n",
    "genres\n",
    "top_genres={}\n",
    "for i in genres.keys():\n",
    "    top_genres[i]=len(genres[i])\n",
    "d=top_genres\n",
    "genre_list=[]\n",
    "\n",
    "rank=0\n",
    "for g in sorted(d, key=d.get, reverse=True):\n",
    "    if rank < 15:\n",
    "        genre_list.append((rank,g, d[g]/allsongs))\n",
    "        rank +=1\n",
    "#genre_list now holds the genre's id number, the genre, and its freq in the overall population        \n",
    "genre_list"
   ]
  },
  {
   "cell_type": "markdown",
   "metadata": {},
   "source": [
    "# Splitting the training and testing data "
   ]
  },
  {
   "cell_type": "code",
   "execution_count": 6,
   "metadata": {},
   "outputs": [
    {
     "data": {
      "text/plain": [
       "((3331, 454), (833, 454))"
      ]
     },
     "execution_count": 6,
     "metadata": {},
     "output_type": "execute_result"
    }
   ],
   "source": [
    "dftrain = df.sample(frac=0.8)\n",
    "dftest =  df.loc[~df.index.isin(dftrain.index)]\n",
    "dftrain.shape, dftest.shape"
   ]
  },
  {
   "cell_type": "code",
   "execution_count": 7,
   "metadata": {
    "collapsed": true
   },
   "outputs": [],
   "source": [
    "def features(sentence):\n",
    "    words = sentence.lower().split()\n",
    "    return dict(('contains(%s)' % w, True) for w in words)\n"
   ]
  },
  {
   "cell_type": "markdown",
   "metadata": {},
   "source": [
    "# Training 15 Classifiers"
   ]
  },
  {
   "cell_type": "code",
   "execution_count": 9,
   "metadata": {
    "collapsed": true
   },
   "outputs": [],
   "source": [
    "classdict={}\n",
    "def trainclassifiers(prior):\n",
    "    for genre_tuple in genre_list:\n",
    "        g_index=genre_tuple[0]\n",
    "        genre = genre_tuple[1]\n",
    "        g_prior= genre_tuple[2]\n",
    "\n",
    "        in_genre_df = dftrain[dftrain[genre]==True]\n",
    "        out_genre_df = dftrain[dftrain[genre]==False]\n",
    "\n",
    "        # concatentate the lyrics from every song into a \"sentence\"\n",
    "        in_sentences=[]\n",
    "        out_sentences=[]\n",
    "        for row in in_genre_df.iterrows():\n",
    "            songsents= row[1][2].split('.')\n",
    "            for s in songsents:\n",
    "                in_sentences.append(s)\n",
    "\n",
    "        for row in out_genre_df.iterrows():\n",
    "            songsents= row[1][2].split('.')\n",
    "            for s in songsents:\n",
    "                out_sentences.append(s)\n",
    "        #setting the prior\n",
    "        if prior == 0:\n",
    "            pprior = g_prior*.0967\n",
    "        else:\n",
    "            pprior=  prior \n",
    "        positive_featuresets = list(map(features, in_sentences))\n",
    "        unlabeled_featuresets = list(map(features, out_sentences))\n",
    "        classdict[int(g_index)] = PositiveNaiveBayesClassifier.train(positive_featuresets,unlabeled_featuresets,positive_prob_prior=pprior)\n"
   ]
  },
  {
   "cell_type": "markdown",
   "metadata": {},
   "source": [
    "# Runs the text against the 15 classifiers and prints the ones that return true"
   ]
  },
  {
   "cell_type": "code",
   "execution_count": 27,
   "metadata": {
    "collapsed": true
   },
   "outputs": [],
   "source": [
    "def show_genres(classtext):\n",
    "    noresult = True\n",
    "    for genre_tuple in genre_list:\n",
    "        g_index=genre_tuple[0]\n",
    "        genre = genre_tuple[1]\n",
    "        g_prior= genre_tuple[2]\n",
    "        if classdict[g_index].classify(features(classtext)):\n",
    "            print(genre[6:])\n",
    "            noresult = False\n",
    "    if noresult:\n",
    "        print(\"No match\")\n"
   ]
  },
  {
   "cell_type": "code",
   "execution_count": 28,
   "metadata": {},
   "outputs": [
    {
     "name": "stdout",
     "output_type": "stream",
     "text": [
      "Baseline pct. predicting all negative: 0.8698679471788715 \n",
      "\n",
      "\n",
      "Prior:  0.01\n",
      "True positive:  43\n",
      "False positive:  72\n",
      "False negative:  1583\n",
      "True negative:  10797\n",
      "Total observations:  12495\n",
      "Predicted correct:  0.867547018807523 \n",
      "\n",
      "\n",
      "Baseline pct. predicting all negative: 0.8698679471788715 \n",
      "\n",
      "\n",
      "Prior:  0.02\n",
      "True positive:  60\n",
      "False positive:  146\n",
      "False negative:  1566\n",
      "True negative:  10723\n",
      "Total observations:  12495\n",
      "Predicted correct:  0.8629851940776311 \n",
      "\n",
      "\n",
      "Baseline pct. predicting all negative: 0.8698679471788715 \n",
      "\n",
      "\n",
      "Prior:  0.03\n",
      "True positive:  99\n",
      "False positive:  209\n",
      "False negative:  1527\n",
      "True negative:  10660\n",
      "Total observations:  12495\n",
      "Predicted correct:  0.8610644257703082 \n",
      "\n",
      "\n",
      "Baseline pct. predicting all negative: 0.8698679471788715 \n",
      "\n",
      "\n",
      "Prior:  0.05\n",
      "True positive:  137\n",
      "False positive:  350\n",
      "False negative:  1489\n",
      "True negative:  10519\n",
      "Total observations:  12495\n",
      "Predicted correct:  0.8528211284513806 \n",
      "\n",
      "\n",
      "Baseline pct. predicting all negative: 0.8698679471788715 \n",
      "\n",
      "\n",
      "Prior:  0.1\n",
      "True positive:  174\n",
      "False positive:  744\n",
      "False negative:  1452\n",
      "True negative:  10125\n",
      "Total observations:  12495\n",
      "Predicted correct:  0.824249699879952 \n",
      "\n",
      "\n",
      "Baseline pct. predicting all negative: 0.8698679471788715 \n",
      "\n",
      "\n",
      "Prior:  0.2\n",
      "True positive:  387\n",
      "False positive:  1949\n",
      "False negative:  1239\n",
      "True negative:  8920\n",
      "Total observations:  12495\n",
      "Predicted correct:  0.7448579431772709 \n",
      "\n",
      "\n",
      "Baseline pct. predicting all negative: 0.8698679471788715 \n",
      "\n",
      "\n",
      "Prior:  0.3\n",
      "True positive:  624\n",
      "False positive:  3219\n",
      "False negative:  1002\n",
      "True negative:  7650\n",
      "Total observations:  12495\n",
      "Predicted correct:  0.6621848739495798 \n",
      "\n",
      "\n",
      "Baseline pct. predicting all negative: 0.8698679471788715 \n",
      "\n",
      "\n",
      "Prior:  0\n",
      "True positive:  109\n",
      "False positive:  190\n",
      "False negative:  1517\n",
      "True negative:  10679\n",
      "Total observations:  12495\n",
      "Predicted correct:  0.8633853541416566 \n",
      "\n",
      "\n"
     ]
    }
   ],
   "source": [
    "results={}\n",
    "# this function iterates over the values it contains for the prior\n",
    "# and for each iterates over the rows of the testing set,\n",
    "# selecting a random sentence from each one\n",
    "# then running the battery of 15 classifiers on the sentence\n",
    "for p in [.01,.02,.03,.05,.1,.2,.3,0]:\n",
    "    trainclassifiers(p)\n",
    "    true_pos=0\n",
    "    true_neg=0\n",
    "    false_pos=0\n",
    "    false_neg=0\n",
    "    blpos=0\n",
    "    bltotal=0\n",
    "    # For each row in the test set\n",
    "    for row in dftest.iterrows():\n",
    "        # getting a sentence from the song \n",
    "        song_sentences=[]\n",
    "        songsents= row[1][2].split('.')\n",
    "        if len(songsents)>0:\n",
    "            for s in songsents:\n",
    "                song_sentences.append(s)\n",
    "        songsent=random.choice(song_sentences)\n",
    "        for genre_tuple in genre_list:\n",
    "            g_index=genre_tuple[0]\n",
    "            genre = genre_tuple[1]\n",
    "            g_prior= genre_tuple[2]\n",
    "            # sees if it's in the song's genre list\n",
    "            observed =  genre in row[1][15]\n",
    "            predicted = classdict[g_index].classify(features(songsent))\n",
    "            if observed and predicted:\n",
    "                true_pos += 1\n",
    "            if not observed and not predicted:\n",
    "                true_neg += 1\n",
    "            if observed and not predicted:\n",
    "                false_neg += 1\n",
    "            if not observed and predicted:\n",
    "                false_pos += 1\n",
    "            # this gets the baseline predicting all false\n",
    "            bltotal += 1\n",
    "            if observed:\n",
    "                blpos += 1\n",
    "                \n",
    "    print(\"Baseline pct. predicting all negative:\", 1-1.0*blpos/bltotal,\"\\n\\n\")             \n",
    "\n",
    "    print(\"Prior: \", p)\n",
    "    print(\"True positive: \",true_pos)\n",
    "    print(\"False positive: \",false_pos)\n",
    "    print(\"False negative: \",false_neg)\n",
    "    print(\"True negative: \",true_neg)\n",
    "    total_obs= true_pos+false_pos+true_neg+false_neg\n",
    "    print(\"Total observations: \",total_obs) \n",
    "    print(\"Predicted correct: \", (1.0*true_pos+true_neg)/total_obs,\"\\n\\n\") \n",
    "    results[str(p)] =[true_pos,false_pos,false_neg,true_neg]    \n"
   ]
  },
  {
   "cell_type": "markdown",
   "metadata": {},
   "source": [
    "## In the cell below, replace the text between the quotes in any of the cells below with text of our choice. The classifier will run against each genre and report which ones it considers a match. If the matches are coming up empty, you can increase the sensitivity by de-commenting the line that runs the classifer training with a higher prior value. Ideally, choose priors which are higher than 0.5."
   ]
  },
  {
   "cell_type": "code",
   "execution_count": 29,
   "metadata": {},
   "outputs": [
    {
     "name": "stdout",
     "output_type": "stream",
     "text": [
      "Hip_hop_music\n",
      "Country_music\n",
      "Funk\n",
      "Dance-pop\n",
      "CPU times: user 1min 27s, sys: 1.4 s, total: 1min 28s\n",
      "Wall time: 1min 29s\n"
     ]
    }
   ],
   "source": [
    "%%time\n",
    "trainclassifiers(0.15)\n",
    "show_genres('Im just a simple girl. In a high-tech digital')"
   ]
  },
  {
   "cell_type": "code",
   "execution_count": 30,
   "metadata": {},
   "outputs": [
    {
     "name": "stdout",
     "output_type": "stream",
     "text": [
      "Pop_music\n",
      "Rock_music\n",
      "Country_music\n",
      "Alternative_rock\n",
      "Hard_rock\n",
      "Dance-pop\n",
      "Disco\n"
     ]
    }
   ],
   "source": [
    "show_genres('I was bruised and battered, I couldnt ')"
   ]
  },
  {
   "cell_type": "code",
   "execution_count": 31,
   "metadata": {},
   "outputs": [
    {
     "name": "stdout",
     "output_type": "stream",
     "text": [
      "Soft_rock\n",
      "Country_music\n"
     ]
    }
   ],
   "source": [
    "show_genres('You get a shiver in the dark. Its raining ')"
   ]
  },
  {
   "cell_type": "code",
   "execution_count": 32,
   "metadata": {
    "slideshow": {
     "slide_type": "slide"
    }
   },
   "outputs": [
    {
     "name": "stdout",
     "output_type": "stream",
     "text": [
      "Hip_hop_music\n",
      "Alternative_rock\n",
      "Hard_rock\n"
     ]
    }
   ],
   "source": [
    "show_genres('gun shoot pistol bullet dead or alive')"
   ]
  },
  {
   "cell_type": "code",
   "execution_count": 33,
   "metadata": {},
   "outputs": [
    {
     "name": "stdout",
     "output_type": "stream",
     "text": [
      "Hip_hop_music\n",
      "Hard_rock\n"
     ]
    }
   ],
   "source": [
    "show_genres('Ride, I used to jump my horse and ride.')"
   ]
  },
  {
   "cell_type": "markdown",
   "metadata": {},
   "source": [
    "# We observe that there are no matches for the following text"
   ]
  },
  {
   "cell_type": "code",
   "execution_count": 34,
   "metadata": {},
   "outputs": [
    {
     "name": "stdout",
     "output_type": "stream",
     "text": [
      "No match\n"
     ]
    }
   ],
   "source": [
    "show_genres('kdclaskjclalcckdcsjd asnckajnc adjcla')"
   ]
  }
 ],
 "metadata": {
  "anaconda-cloud": {},
  "kernelspec": {
   "display_name": "Python [Root]",
   "language": "python",
   "name": "Python [Root]"
  },
  "language_info": {
   "codemirror_mode": {
    "name": "ipython",
    "version": 3
   },
   "file_extension": ".py",
   "mimetype": "text/x-python",
   "name": "python",
   "nbconvert_exporter": "python",
   "pygments_lexer": "ipython3",
   "version": "3.5.2"
  }
 },
 "nbformat": 4,
 "nbformat_minor": 1
}
